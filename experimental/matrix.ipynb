{
 "metadata": {
  "name": "matrix"
 },
 "nbformat": 3,
 "nbformat_minor": 0,
 "worksheets": [
  {
   "cells": [
    {
     "cell_type": "code",
     "collapsed": false,
     "input": [
      "import os.path\n",
      "import pandas as pd\n",
      "\n",
      "# make sure that read_csv is available\n",
      "assert hasattr(pd, 'read_csv')\n",
      "\n",
      "def load_text_pandas(filename, dtype, skiprows=0, delimiter=' '):\n",
      "    with open(filename, 'r') as f:\n",
      "        for _ in xrange(skiprows):\n",
      "            f.readline()\n",
      "        x = pd.read_csv(f, header=None, sep=delimiter).values.astype(dtype).squeeze()\n",
      "    # return pd.read_csv(filename, skiprows=skiprows, sep=delimiter).values.astype(dtype)\n",
      "    # print x.shape\n",
      "    return x\n",
      "\n",
      "def get_actual_filename(filename, extension, fileindex=1):\n",
      "    \"\"\"Search the most plausible existing filename corresponding to the\n",
      "    requested approximate filename, which has the required file index and\n",
      "    extension.\"\"\"\n",
      "    dir = os.path.dirname(filename)\n",
      "    filename = os.path.basename(filename)\n",
      "    files = os.listdir(dir)\n",
      "    prefix = filename\n",
      "    if fileindex is None:\n",
      "        suffix = '.{0:s}'.format(extension)\n",
      "    else:\n",
      "        suffix = '.{0:s}.{1:d}'.format(extension, fileindex)\n",
      "    filtered = []\n",
      "    # find the real filename with the longest path that fits the requested\n",
      "    # filename\n",
      "    while prefix and not filtered:\n",
      "        filtered = filter(lambda file: (file.startswith(prefix) and \n",
      "            file.endswith(suffix)), files)\n",
      "        prefix = prefix[:-1]\n",
      "    # order by increasing length and return the shortest\n",
      "    filtered = sorted(filtered, cmp=lambda k, v: len(k) - len(v))\n",
      "    return os.path.join(dir, filtered[0])        "
     ],
     "language": "python",
     "metadata": {},
     "outputs": [],
     "prompt_number": 49
    },
    {
     "cell_type": "code",
     "collapsed": false,
     "input": [
      "filename = \"../_test/data/test\"\n",
      "filename = r\"D:\\Spike sorting\\spike_sorting_janelia\\32Channels\\trace_32Chan_linear32\\MKK_CDfixedderived\\kenneth_1\\trace_32Chan\"\n",
      "filename = r\"D:\\Spike sorting\\matrix\\n6mab061109quarter1_n6mab031109_MKKdistfloat_197_regular2p3_1_subset_129929\"\n",
      "filename = r\"D:\\Spike sorting\\matrix\\2\\n6mab061109quarter1_n6mab031109_MKKdistfloat_197_regular2p3_1_subset_129929\"\n",
      "fileindex = 1\n",
      "fetdim = 3\n",
      "nchannels = 32"
     ],
     "language": "python",
     "metadata": {},
     "outputs": [],
     "prompt_number": 50
    },
    {
     "cell_type": "code",
     "collapsed": false,
     "input": [
      "path = get_actual_filename(filename, 'clu', fileindex)\n",
      "# clusters = load_text(path, np.int32)\n",
      "clusters = load_text_pandas(path, np.int32)\n",
      "nspikes = len(clusters) - 1\n",
      "\n",
      "# nclusters = clusters[0]\n",
      "clusters = clusters[1:]"
     ],
     "language": "python",
     "metadata": {},
     "outputs": [],
     "prompt_number": 51
    },
    {
     "cell_type": "code",
     "collapsed": false,
     "input": [
      "# FEATURES\n",
      "# -------------------------------------------------\n",
      "# features = load_text_fast(filename + \".fet.%d\" % fileindex, np.int32, skiprows=1)\n",
      "path = get_actual_filename(filename, 'fet', fileindex)\n",
      "features = load_text_pandas(path, np.int32, skiprows=1)\n",
      "features = np.array(features, dtype=np.float32)\n",
      "\n",
      "features = features.reshape((-1, fetdim * nchannels + 1))\n",
      "ndims = fetdim * nchannels\n",
      "\n",
      "# get the spiketimes\n",
      "spiketimes = features[:,-1].copy()\n",
      "\n",
      "# remove the last column in features, containing the spiketimes\n",
      "# features = features[:,:nchannels * fetdim]\n",
      "nextrafet = features.shape[1] - nchannels * fetdim\n",
      "\n",
      "# remove extra features\n",
      "features = features[:,:-nextrafet]\n",
      "\n",
      "# normalize normal features\n",
      "m = features.min()\n",
      "M = features.max()\n",
      "# force symmetry\n",
      "vx = max(np.abs(m), np.abs(M))\n",
      "m, M = -vx, vx\n",
      "features = -1+2*(features-m)/(M-m)"
     ],
     "language": "python",
     "metadata": {},
     "outputs": [],
     "prompt_number": 52
    },
    {
     "cell_type": "code",
     "collapsed": false,
     "input": [
      "# masks = load_text(filename + \".fmask.%d\" % fileindex, np.float32, skiprows=1)\n",
      "path = get_actual_filename(filename, 'fmask', fileindex)\n",
      "masks = load_text_pandas(path, np.float32, skiprows=1)\n",
      "masks = masks[:,:-nextrafet]"
     ],
     "language": "python",
     "metadata": {},
     "outputs": [],
     "prompt_number": 53
    },
    {
     "cell_type": "code",
     "collapsed": false,
     "input": [
      "from collections import Counter\n",
      "c = Counter(clusters)\n",
      "spikes_in_clusters = [np.nonzero(clusters == clu)[0] for clu in sorted(c)]\n",
      "nClusters = len(spikes_in_clusters)"
     ],
     "language": "python",
     "metadata": {},
     "outputs": [],
     "prompt_number": 54
    },
    {
     "cell_type": "code",
     "collapsed": false,
     "input": [
      "#def get_stats_KL(Fet1, Fet2, spikes_in_clusters, masks):\n",
      "Fet1, Fet2 = features, features\n",
      "    \n",
      "nPoints = Fet1.shape[0] #size(Fet1, 1)\n",
      "nDims = Fet1.shape[1] #size(Fet1, 2)\n",
      "# nClusters = Clu2.max() #max(Clu2)\n",
      "nClusters = len(spikes_in_clusters)"
     ],
     "language": "python",
     "metadata": {},
     "outputs": [],
     "prompt_number": 55
    },
    {
     "cell_type": "code",
     "collapsed": false,
     "input": [
      "# precompute the mean and variances of the masked points for each feature\n",
      "# contains 1 when the corresponding point is masked\n",
      "masked = np.zeros_like(masks)\n",
      "masked[masks == 0] = 1\n",
      "nmasked = np.sum(masked, axis=0)\n",
      "nu = np.sum(Fet2 * masked, axis=0) / nmasked\n",
      "nu = nu.reshape((1, -1))\n",
      "sigma2 = np.sum(((Fet2 - nu) * masked) ** 2, axis=0) / nmasked\n",
      "sigma2 = sigma2.reshape((1, -1))\n",
      "# expected features\n",
      "y = Fet1 * masks + (1 - masks) * nu\n",
      "z = masks * Fet1**2 + (1 - masks) * (nu ** 2 + sigma2)\n",
      "eta = z - y ** 2"
     ],
     "language": "python",
     "metadata": {},
     "outputs": [],
     "prompt_number": 56
    },
    {
     "cell_type": "code",
     "collapsed": false,
     "input": [
      "LogP = np.zeros((nPoints, nClusters))\n",
      "stats = {}\n",
      "\n",
      "for c in xrange(nClusters):\n",
      "    # MyPoints = np.nonzero(Clu2==c)[0]\n",
      "    MyPoints = spikes_in_clusters[c]\n",
      "    # MyFet2 = Fet2[MyPoints, :]\n",
      "    # now, take the modified features here\n",
      "    # MyFet2 = y[MyPoints, :]\n",
      "    MyFet2 = np.take(y, MyPoints, axis=0)\n",
      "    if len(MyPoints) > nDims:\n",
      "        LogProp = np.log(len(MyPoints) / float(nPoints)) # log of the proportion in cluster c\n",
      "        Mean = np.mean(MyFet2, axis=0).reshape((1, -1))\n",
      "        CovMat = np.cov(MyFet2, rowvar=0) # stats for cluster c\n",
      "        \n",
      "        # HACK: avoid instability issues, kind of works\n",
      "        CovMat += np.diag(1e-3 * np.ones(nDims))\n",
      "        \n",
      "        # now, add the diagonal modification to the covariance matrix\n",
      "        # the eta just for the current cluster\n",
      "        etac = np.take(eta, MyPoints, axis=0)\n",
      "        d = np.sum(etac, axis=0) / nmasked\n",
      "        # add diagonal\n",
      "        CovMat += np.diag(d)\n",
      "        CovMatinv = np.linalg.inv(CovMat)\n",
      "        LogDet = np.log(np.linalg.det(CovMat))\n",
      "        \n",
      "        stats[c] = (Mean, CovMat, CovMatinv, LogDet, len(MyPoints))\n",
      "\n",
      "clusters = sorted(stats.keys())"
     ],
     "language": "python",
     "metadata": {},
     "outputs": [],
     "prompt_number": 57
    },
    {
     "cell_type": "code",
     "collapsed": false,
     "input": [
      "eigs=[]\n",
      "for ci in clusters:\n",
      "    Mean, CovMat, CovMatinv, LogDet, npoints = stats[ci]\n",
      "    eigs.append(sorted(eig(CovMat)[0])[::-1])\n",
      "eigs = array(eigs)\n",
      "figure(figsize=(12,6))\n",
      "#print eigs\n",
      "imshow(log(eigs), interpolation='none')\n",
      "colorbar()"
     ],
     "language": "python",
     "metadata": {},
     "outputs": [
      {
       "output_type": "pyout",
       "prompt_number": 58,
       "text": [
        "<matplotlib.colorbar.Colorbar instance at 0x000000000E3A6B88>"
       ]
      },
      {
       "output_type": "display_data",
       "png": "[encoded data removed]"
      }
     ],
     "prompt_number": 58
    },
    {
     "cell_type": "code",
     "collapsed": false,
     "input": [
      "#clusters = sorted(stats.keys())\n",
      "#matrix_original = zeros((nClusters, nClusters))\n",
      "\n",
      "LogP = np.zeros((nPoints, nClusters))\n",
      "for c in xrange(nClusters):\n",
      "    # MyPoints = np.nonzero(Clu2==c)[0]\n",
      "    MyPoints = spikes_in_clusters[c]\n",
      "    # MyFet2 = Fet2[MyPoints, :]\n",
      "    # now, take the modified features here\n",
      "    # MyFet2 = y[MyPoints, :]\n",
      "    MyFet2 = np.take(y, MyPoints, axis=0)\n",
      "    if len(MyPoints) > nDims:\n",
      "        LogProp = np.log(len(MyPoints) / float(nPoints)) # log of the proportion in cluster c\n",
      "    \n",
      "        Mean, CovMat, CovMatinv, LogDet, npoints = stats[c]\n",
      "    \n",
      "        # dx = Fet1 - Mean #repmat(Mean, nPoints, 1) # distance of each point from cluster\n",
      "        # we take the expected features\n",
      "        dx = y - Mean #repmat(Mean, nPoints, 1) # distance of each point from cluster\n",
      "        # y = dx / CovMat\n",
      "        # print Fet1.shape, Mean.shape, dx.shape, CovMat.shape\n",
      "        # TODO: we don't need that anymore if we compute the inverse of the cov matrix\n",
      "        y2 = np.linalg.solve(CovMat.T, dx.T).T\n",
      "        correction = np.sum(eta * np.diag(CovMatinv).reshape((1, -1)), axis=1)\n",
      "        LogP[:,c] = (np.sum(y2*dx, axis=1)/2. + correction / 2.) + LogDet/2. - LogProp + np.log(2*np.pi)*nDims/2. # -Log Likelihood\n",
      "            # -log of joint probability that the point lies in cluster c and has given coords.\n",
      "\n",
      "    else:\n",
      "        LogP[:,c] = np.inf\n",
      "\n",
      "JointProb = np.exp(-LogP)\n",
      "\n",
      "# # if any points have all probs zero, set them to cluster 1\n",
      "JointProb[np.sum(JointProb, axis=1) == 0, 0] = 1e-9 #eps\n",
      "\n",
      "# #probability that point belongs to cluster, given coords\n",
      "# p = JointProb / repmat(sum(JointProb,2), 1, nClusters) \n",
      "P = JointProb / np.sum(JointProb, axis=1).reshape((-1, 1))\n",
      "    \n",
      "matrix_original = np.zeros((nClusters, nClusters))\n",
      "for c in xrange(nClusters):\n",
      "    # MyPoints = np.nonzero(Clu2==c)[0]\n",
      "    MyPoints = spikes_in_clusters[c]\n",
      "    matrix_original[c,:] = np.mean(P[MyPoints, :], axis=0)"
     ],
     "language": "python",
     "metadata": {},
     "outputs": [],
     "prompt_number": 59
    },
    {
     "cell_type": "code",
     "collapsed": false,
     "input": [
      "matrix_original[range(nClusters),range(nClusters)] = 0"
     ],
     "language": "python",
     "metadata": {},
     "outputs": [],
     "prompt_number": 60
    },
    {
     "cell_type": "code",
     "collapsed": false,
     "input": [
      "matrix_KL = zeros((nClusters, nClusters))\n",
      "\n",
      "for ci in clusters:\n",
      "    for cj in clusters:\n",
      "        mui, Ci, Ciinv, logdeti, npointsi = stats[ci]\n",
      "        muj, Cj, Cjinv, logdetj, npointsj = stats[cj]\n",
      "        dmu = (muj - mui).reshape((-1, 1))\n",
      "        \n",
      "        # KL divergence\n",
      "        dkl = .5 * (trace(dot(Cjinv, Ci)) + dot(dot(dmu.T, Cjinv), dmu) - logdeti + logdetj - ndims)\n",
      "        \n",
      "        matrix_KL[ci, cj] = dkl"
     ],
     "language": "python",
     "metadata": {},
     "outputs": [],
     "prompt_number": 61
    },
    {
     "cell_type": "code",
     "collapsed": false,
     "input": [
      "matrix_KL = -matrix_KL\n",
      "matrix_KL[matrix_KL==0] = matrix_KL[matrix_KL!=0].min()"
     ],
     "language": "python",
     "metadata": {},
     "outputs": [],
     "prompt_number": 62
    },
    {
     "cell_type": "code",
     "collapsed": false,
     "input": [
      "matrix_mean = zeros((nClusters, nClusters))\n",
      "\n",
      "for ci in clusters:\n",
      "    for cj in clusters:\n",
      "        mui, Ci, Ciinv, logdeti, npointsi = stats[ci]\n",
      "        muj, Cj, Cjinv, logdetj, npointsi = stats[cj]\n",
      "        dmu = (muj - mui).reshape((-1, 1))\n",
      "        \n",
      "        matrix_mean[ci, cj] = sum(dmu ** 2)"
     ],
     "language": "python",
     "metadata": {},
     "outputs": [],
     "prompt_number": 63
    },
    {
     "cell_type": "code",
     "collapsed": false,
     "input": [
      "matrix_mean2 = -matrix_mean\n",
      "matrix_mean2[matrix_mean2==0] = matrix_mean2[matrix_mean2!=0].min()\n",
      "matrix_mean2.min(), matrix_mean2.max()"
     ],
     "language": "python",
     "metadata": {},
     "outputs": [
      {
       "output_type": "pyout",
       "prompt_number": 64,
       "text": [
        "(-0.78876578807830811, -0.0015229303389787674)"
       ]
      }
     ],
     "prompt_number": 64
    },
    {
     "cell_type": "code",
     "collapsed": false,
     "input": [
      "matrix_product = zeros((nClusters, nClusters))\n",
      "\n",
      "for ci in clusters:\n",
      "    mui, Ci, Ciinv, logdeti, npointsi = stats[ci]\n",
      "    for cj in clusters:\n",
      "        muj, Cj, Cjinv, logdetj, npointsj = stats[cj]\n",
      "        dmu = (muj - mui).reshape((-1, 1))\n",
      "        \n",
      "        p = log(2*pi)*(-nDims/2.)+(-.5*log(det(Ci+Cj)))+(-.5)*dot(dot(dmu.T, inv(Ci+Cj)), dmu)\n",
      "        alpha = float(npointsi) / len(spiketimes)\n",
      "        matrix_product[ci, cj] = p# + log(alpha)"
     ],
     "language": "python",
     "metadata": {},
     "outputs": [],
     "prompt_number": 99
    },
    {
     "cell_type": "code",
     "collapsed": false,
     "input": [
      "matrix_product[range(len(clusters)), range(len(clusters))]= 0\n",
      "matrix_product[matrix_product==0] = matrix_product[matrix_product!=0].min()"
     ],
     "language": "python",
     "metadata": {},
     "outputs": [],
     "prompt_number": 104
    },
    {
     "cell_type": "code",
     "collapsed": false,
     "input": [
      "figure(figsize=(14,8))\n",
      "subplot(131)\n",
      "imshow(matrix_original.T, interpolation='none')\n",
      "title(\"Klusters\")\n",
      "subplot(132)\n",
      "imshow(exp(matrix_KL.T), interpolation='none')\n",
      "title(\"KL\")\n",
      "subplot(133)\n",
      "imshow(exp(matrix_product.T), interpolation='none')\n",
      "title(\"Scalar product\")"
     ],
     "language": "python",
     "metadata": {},
     "outputs": [
      {
       "output_type": "pyout",
       "prompt_number": 105,
       "text": [
        "<matplotlib.text.Text at 0xd70ea20>"
       ]
      },
      {
       "output_type": "display_data",
       "png": "[encoded data removed]"
      }
     ],
     "prompt_number": 105
    },
    {
     "cell_type": "code",
     "collapsed": false,
     "input": [
      "def draw_covariance(C, **kwargs):\n",
      "    U, s , Vh = svd(C)\n",
      "    orient = math.atan2(U[1,0],U[0,0])\n",
      "    w=math.sqrt(s[0])\n",
      "    h=math.sqrt(s[1])\n",
      "    a=orient\n",
      "    \n",
      "    e = Ellipse(xy=(0,0), width=w, height=h, angle=a, **kwargs)\n",
      "    ax.add_artist(e)\n",
      "    \n",
      "    xlim(-w, w)\n",
      "    ylim(-h, h)"
     ],
     "language": "python",
     "metadata": {},
     "outputs": []
    },
    {
     "cell_type": "code",
     "collapsed": false,
     "input": [
      "Ci = array([[2., 1.], [1., 2.]])\n",
      "Cj = array([[2., 1.], [1., 2.]])\n",
      "\n",
      "dmu = array([[1., 2.]]).T\n",
      "Cjinv = inv(Cj)\n",
      "logdeti = log(det(Ci))\n",
      "logdetj = log(det(Cj))\n",
      "ndims = 2\n",
      "\n",
      "dkl = .5 * (trace(dot(Cjinv, Ci)) + dot(dot(dmu.T, Cjinv), dmu) - logdeti + logdetj - ndims)\n",
      "print dkl\n",
      "\n",
      "from matplotlib.patches import Ellipse\n",
      "\n",
      "fig = figure()\n",
      "ax = fig.add_subplot(111, aspect='equal')\n",
      "draw_covariance(Ci)\n",
      "draw_covariance(Cj)"
     ],
     "language": "python",
     "metadata": {},
     "outputs": []
    }
   ],
   "metadata": {}
  }
 ]
}