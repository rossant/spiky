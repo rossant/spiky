{
 "metadata": {
  "name": "h5test"
 },
 "nbformat": 3,
 "nbformat_minor": 0,
 "worksheets": [
  {
   "cells": [
    {
     "cell_type": "code",
     "collapsed": false,
     "input": [
      "import numpy as np\n",
      "import tables\n",
      "import os\n",
      "\n",
      "filename = \"test.h5\"\n",
      "\n",
      "# We create an array with 32 1h-long parallel signals at 20 kHz and 16 bits (creating the array with 1 minute-long chunks).\n",
      "datatype = np.dtype(np.int16)\n",
      "itemsize = datatype.itemsize\n",
      "nchannels = 32\n",
      "freq = 20000.\n",
      "rowsize = freq * 60\n",
      "nchunks = 10\n",
      "#chunkshape = (1024, nchannels)"
     ],
     "language": "python",
     "metadata": {},
     "outputs": [],
     "prompt_number": 1
    },
    {
     "cell_type": "code",
     "collapsed": false,
     "input": [
      "#if not os.path.exists(filename):\n",
      "# Open HDF5 file for writing.\n",
      "print(\"Creating HDF5 file (~4.3 GB).\")\n",
      "fw = tables.openFile(filename, 'w')\n",
      "atom = tables.Atom.from_dtype(datatype)\n",
      "ds = fw.createEArray(fw.root, 'raw_data', atom, shape=(0, nchannels), expectedrows=rowsize * nchunks)#, chunkshape=chunkshape)\n",
      "# We create the file (~4.3GB total), this takes a few tens of seconds.\n",
      "for _ in xrange(nchunks):\n",
      "    X = randint(low=-32000, high=32000, size=(rowsize, nchannels))\n",
      "    ds.append(X)\n",
      "# Close all files.\n",
      "ds.flush()\n",
      "fw.close()"
     ],
     "language": "python",
     "metadata": {},
     "outputs": [
      {
       "output_type": "stream",
       "stream": "stdout",
       "text": [
        "Creating HDF5 file (~4.3 GB).\n"
       ]
      }
     ],
     "prompt_number": 2
    },
    {
     "cell_type": "code",
     "collapsed": false,
     "input": [
      "# Open the file.\n",
      "f = tables.openFile(filename, 'r')\n",
      "ds = f.root.raw_data"
     ],
     "language": "python",
     "metadata": {},
     "outputs": [],
     "prompt_number": 3
    },
    {
     "cell_type": "code",
     "collapsed": false,
     "input": [
      "# Now we try to get undersampled data, i.e. one value every `step` values.\n",
      "step = 1000\n",
      "print(\"Getting {0:.1f} KB of data.\".format(nchannels * rowsize * nchunks * itemsize / (1024. * float(step))))"
     ],
     "language": "python",
     "metadata": {},
     "outputs": [
      {
       "output_type": "stream",
       "stream": "stdout",
       "text": [
        "Getting 750.0 KB of data.\n"
       ]
      }
     ],
     "prompt_number": 4
    },
    {
     "cell_type": "code",
     "collapsed": false,
     "input": [
      "%timeit -n 1 -r 1 x = ds[:freq*10:step,:]"
     ],
     "language": "python",
     "metadata": {},
     "outputs": [
      {
       "output_type": "stream",
       "stream": "stdout",
       "text": [
        "1 loops, best of 1: 7.6 ms per loop\n"
       ]
      }
     ],
     "prompt_number": 5
    },
    {
     "cell_type": "code",
     "collapsed": false,
     "input": [
      "f.close()"
     ],
     "language": "python",
     "metadata": {},
     "outputs": [],
     "prompt_number": 6
    },
    {
     "cell_type": "code",
     "collapsed": false,
     "input": [],
     "language": "python",
     "metadata": {},
     "outputs": [],
     "prompt_number": 6
    }
   ],
   "metadata": {}
  }
 ]
}