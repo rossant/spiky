{
 "metadata": {
  "name": "correlograms"
 },
 "nbformat": 3,
 "nbformat_minor": 0,
 "worksheets": [
  {
   "cells": [
    {
     "cell_type": "code",
     "collapsed": false,
     "input": [
      "def poisson(n):\n",
      "    return cumsum(exponential(size=n, scale=.01))"
     ],
     "language": "python",
     "metadata": {},
     "outputs": [],
     "prompt_number": 17
    },
    {
     "cell_type": "code",
     "collapsed": false,
     "input": [
      "def brian(T1, T2, width=.02, bin=.001, T=None):\n",
      "    n = int(np.ceil(width / bin))\n",
      "    if (len(T1) == 0) or (len(T2) == 0):\n",
      "        return None\n",
      "    i = 0\n",
      "    j = 0\n",
      "    l = []\n",
      "    for t in T1:\n",
      "        while i < len(T2) and T2[i] < t - width: # other possibility use searchsorted\n",
      "            i += 1\n",
      "        while j < len(T2) and T2[j] < t + width:\n",
      "            j += 1\n",
      "        l.extend(T2[i:j] - t)\n",
      "    H, _ = np.histogram(l, bins=np.arange(2 * n + 1) * bin - n * bin) #, new = True)\n",
      "\n",
      "    return H * 1."
     ],
     "language": "python",
     "metadata": {},
     "outputs": [],
     "prompt_number": 18
    },
    {
     "cell_type": "code",
     "collapsed": false,
     "input": [
      "def compute1():\n",
      "    correlograms = {}\n",
      "    for i in xrange(k):\n",
      "        for j in xrange(i, k):\n",
      "            correlograms[(i,j)] = brian(trains[i], trains[j])\n",
      "    return correlograms"
     ],
     "language": "python",
     "metadata": {},
     "outputs": [],
     "prompt_number": 19
    },
    {
     "cell_type": "code",
     "collapsed": false,
     "input": [
      "nspikes = 10000\n",
      "nclusters = 10\n",
      "fulltrain = poisson(nspikes)\n",
      "clusters = randint(low=0, high=nclusters, size=nspikes)\n",
      "trains = [fulltrain[clusters==i] for i in xrange(nclusters)]"
     ],
     "language": "python",
     "metadata": {},
     "outputs": [],
     "prompt_number": 23
    },
    {
     "cell_type": "code",
     "collapsed": false,
     "input": [],
     "language": "python",
     "metadata": {},
     "outputs": [],
     "prompt_number": 29
    },
    {
     "cell_type": "code",
     "collapsed": false,
     "input": [
      "%timeit -r 1 -n 1 compute1()"
     ],
     "language": "python",
     "metadata": {},
     "outputs": [
      {
       "output_type": "stream",
       "stream": "stdout",
       "text": [
        "1 loops, best of 1: 389 ms per loop\n"
       ]
      }
     ],
     "prompt_number": 30
    },
    {
     "cell_type": "code",
     "collapsed": false,
     "input": [
      "for spike in fulltrain:\n",
      "    pass\n"
     ],
     "language": "python",
     "metadata": {},
     "outputs": [],
     "prompt_number": 31
    }
   ],
   "metadata": {}
  }
 ]
}