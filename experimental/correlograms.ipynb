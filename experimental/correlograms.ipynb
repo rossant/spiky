{
 "metadata": {
  "name": "correlograms"
 },
 "nbformat": 3,
 "nbformat_minor": 0,
 "worksheets": [
  {
   "cells": [
    {
     "cell_type": "code",
     "collapsed": false,
     "input": [
      "def poisson(n):\n",
      "    return cumsum(exponential(size=n, scale=.01))"
     ],
     "language": "python",
     "metadata": {},
     "outputs": [],
     "prompt_number": 2
    },
    {
     "cell_type": "code",
     "collapsed": false,
     "input": [
      "def brian(T1, T2, width=.02, bin=.001, T=None):\n",
      "    n = int(np.ceil(width / bin))\n",
      "    if (len(T1) == 0) or (len(T2) == 0):\n",
      "        return None\n",
      "    i = 0\n",
      "    j = 0\n",
      "    l = []\n",
      "    for t in T1:\n",
      "        while i < len(T2) and T2[i] < t - width: # other possibility use searchsorted\n",
      "            i += 1\n",
      "        while j < len(T2) and T2[j] < t + width:\n",
      "            j += 1\n",
      "        l.extend(T2[i:j] - t)\n",
      "    H, _ = np.histogram(l, bins=np.arange(2 * n + 1) * bin - n * bin) #, new = True)\n",
      "\n",
      "    return H"
     ],
     "language": "python",
     "metadata": {},
     "outputs": [],
     "prompt_number": 3
    },
    {
     "cell_type": "code",
     "collapsed": false,
     "input": [
      "def compute1():\n",
      "    correlograms = {}\n",
      "    for i in xrange(nclusters):\n",
      "        for j in xrange(i, nclusters):\n",
      "            correlograms[(i,j)] = brian(trains[i], trains[j])\n",
      "    return correlograms"
     ],
     "language": "python",
     "metadata": {},
     "outputs": [],
     "prompt_number": 4
    },
    {
     "cell_type": "code",
     "collapsed": false,
     "input": [
      "def compute2():\n",
      "    bin = .001\n",
      "    width = .02\n",
      "    n = int(np.ceil(width / bin))\n",
      "    corr = {}\n",
      "    # initialize the correlograms\n",
      "    for i in xrange(nclusters):\n",
      "        for j in xrange(nclusters):\n",
      "            corr[(i,j)] = []\n",
      "    # loop through all spikes, across all neurons, all sorted\n",
      "    for i in xrange(nspikes):\n",
      "        # current spike and cluster\n",
      "        t0 = fulltrain[i]\n",
      "        cl0 = clusters[i]\n",
      "        j = i\n",
      "        # go forward in time up to the correlogram half-width\n",
      "        while j < nspikes:\n",
      "            # next spike and cluster\n",
      "            t1 = fulltrain[j]\n",
      "            cl1 = clusters[j]\n",
      "            # avoid computing symmetric pairs twice\n",
      "            if cl1 >= cl0:\n",
      "                # add the delay\n",
      "                if t1 <= t0 + width:\n",
      "                    corr[(cl0,cl1)].append(t1 - t0)\n",
      "                else:\n",
      "                    break\n",
      "            j += 1\n",
      "        # go backward in time up to the correlogram half-width\n",
      "        j = i - 1\n",
      "        while j >= 0:\n",
      "            t1 = fulltrain[j]\n",
      "            cl1 = clusters[j]\n",
      "            # avoid computing symmetric pairs twice\n",
      "            if cl1 >= cl0:\n",
      "                if t1 >= t0 - width:\n",
      "                    corr[(cl0,cl1)].append(t1 - t0)\n",
      "                else:\n",
      "                    break\n",
      "            j -= 1\n",
      "    for i in xrange(nclusters):\n",
      "        for j in xrange(nclusters):\n",
      "            corr[(i,j)], _ = histogram(corr[(i,j)], bins=np.arange(2 * n + 1) * bin - n * bin)\n",
      "    return corr"
     ],
     "language": "python",
     "metadata": {},
     "outputs": [],
     "prompt_number": 28
    },
    {
     "cell_type": "code",
     "collapsed": false,
     "input": [
      "nspikes = 50000\n",
      "nclusters = 50\n",
      "fulltrain = poisson(nspikes)\n",
      "clusters = randint(low=0, high=nclusters, size=nspikes)\n",
      "trains = [fulltrain[clusters==i] for i in xrange(nclusters)]"
     ],
     "language": "python",
     "metadata": {},
     "outputs": [],
     "prompt_number": 21
    },
    {
     "cell_type": "code",
     "collapsed": false,
     "input": [
      "corr1 = compute1()\n",
      "corr2 = compute2()\n",
      "for i in xrange(nclusters):\n",
      "    for j in xrange(i, nclusters):\n",
      "        if not array_equal(corr1[(i,j)], corr2[(i,j)]):\n",
      "            print i, j"
     ],
     "language": "python",
     "metadata": {},
     "outputs": [],
     "prompt_number": 22
    },
    {
     "cell_type": "code",
     "collapsed": false,
     "input": [],
     "language": "python",
     "metadata": {},
     "outputs": [],
     "prompt_number": 7
    },
    {
     "cell_type": "code",
     "collapsed": false,
     "input": [
      "%timeit -r 1 -n 1 compute1()"
     ],
     "language": "python",
     "metadata": {},
     "outputs": [
      {
       "output_type": "stream",
       "stream": "stdout",
       "text": [
        "1 loops, best of 1: 8.43 s per loop\n"
       ]
      }
     ],
     "prompt_number": 23
    },
    {
     "cell_type": "code",
     "collapsed": false,
     "input": [
      "%timeit -r 1 -n 1 compute2()"
     ],
     "language": "python",
     "metadata": {},
     "outputs": [
      {
       "output_type": "stream",
       "stream": "stdout",
       "text": [
        "1 loops, best of 1: 791 ms per loop\n"
       ]
      }
     ],
     "prompt_number": 31
    },
    {
     "cell_type": "markdown",
     "metadata": {},
     "source": [
      "### Other tests"
     ]
    },
    {
     "cell_type": "code",
     "collapsed": false,
     "input": [
      "# check which is quicker between unoptimized vectorized or optimized pure Python to find the subpart of the train\n",
      "i = len(fulltrain)/2\n",
      "t = fulltrain[i]\n",
      "\n",
      "# first solution\n",
      "def f1():\n",
      "    x1 = fulltrain[(fulltrain >= t - .02) & (fulltrain <= t + .02)] - t\n",
      "    return x1\n",
      "\n",
      "# second solution\n",
      "def f2():\n",
      "    x2 = []\n",
      "    k = i\n",
      "    while True:\n",
      "        t2 = fulltrain[k]\n",
      "        if t2 <= t + .02:\n",
      "            x2.append(t2 - t)\n",
      "        else:\n",
      "            break\n",
      "        k += 1\n",
      "    k = i-1\n",
      "    while True:\n",
      "        t2 = fulltrain[k]\n",
      "        if t2 >= t - .02:\n",
      "            x2.append(t2 - t)\n",
      "        else:\n",
      "            break\n",
      "        k -= 1\n",
      "    x2 = array(x2)\n",
      "    x2.sort()\n",
      "    return x2\n",
      "    \n",
      "print array_equal(f1(), f2())"
     ],
     "language": "python",
     "metadata": {},
     "outputs": [
      {
       "output_type": "stream",
       "stream": "stdout",
       "text": [
        "True\n"
       ]
      }
     ],
     "prompt_number": 10
    },
    {
     "cell_type": "code",
     "collapsed": false,
     "input": [
      "timeit -r 1000 -n 3 f1()"
     ],
     "language": "python",
     "metadata": {},
     "outputs": [
      {
       "output_type": "stream",
       "stream": "stdout",
       "text": [
        "3 loops, best of 1000: 55.1 us per loop\n"
       ]
      }
     ],
     "prompt_number": 11
    },
    {
     "cell_type": "code",
     "collapsed": false,
     "input": [
      "timeit -r 1000 -n 3 f2()"
     ],
     "language": "python",
     "metadata": {},
     "outputs": [
      {
       "output_type": "stream",
       "stream": "stdout",
       "text": [
        "3 loops, best of 1000: 13.8 us per loop\n"
       ]
      }
     ],
     "prompt_number": 12
    }
   ],
   "metadata": {}
  }
 ]
}