{
 "metadata": {
  "name": "correlograms"
 },
 "nbformat": 3,
 "nbformat_minor": 0,
 "worksheets": [
  {
   "cells": [
    {
     "cell_type": "code",
     "collapsed": false,
     "input": [
      "from collections import Counter\n",
      "from math import ceil"
     ],
     "language": "python",
     "metadata": {},
     "outputs": [],
     "prompt_number": 3
    },
    {
     "cell_type": "code",
     "collapsed": false,
     "input": [
      "def poisson(n):\n",
      "    return cumsum(exponential(size=n, scale=.01))"
     ],
     "language": "python",
     "metadata": {},
     "outputs": [],
     "prompt_number": 73
    },
    {
     "cell_type": "code",
     "collapsed": false,
     "input": [
      "def brian(T1, T2, width=.02, bin=.001, T=None):\n",
      "    n = int(np.ceil(width / bin))\n",
      "    if (len(T1) == 0) or (len(T2) == 0):\n",
      "        return None\n",
      "    i = 0\n",
      "    j = 0\n",
      "    l = []\n",
      "    for t in T1:\n",
      "        while i < len(T2) and T2[i] < t - width: # other possibility use searchsorted\n",
      "            i += 1\n",
      "        while j < len(T2) and T2[j] < t + width:\n",
      "            j += 1\n",
      "        l.extend(T2[i:j] - t)\n",
      "    H, _ = np.histogram(l, bins=np.arange(2 * n + 1) * bin - n * bin) #, new = True)\n",
      "\n",
      "    return H"
     ],
     "language": "python",
     "metadata": {},
     "outputs": [],
     "prompt_number": 3
    },
    {
     "cell_type": "code",
     "collapsed": false,
     "input": [
      "def compute1():\n",
      "    correlograms = {}\n",
      "    for i in xrange(nclusters):\n",
      "        for j in xrange(i, nclusters):\n",
      "            correlograms[(i,j)] = brian(trains[i], trains[j])\n",
      "    return correlograms"
     ],
     "language": "python",
     "metadata": {},
     "outputs": [],
     "prompt_number": 4
    },
    {
     "cell_type": "code",
     "collapsed": false,
     "input": [
      "def compute2():\n",
      "    bin = .001\n",
      "    width = .02\n",
      "    n = int(np.ceil(width / bin))\n",
      "    corr = {}\n",
      "    # initialize the correlograms\n",
      "    for i in xrange(nclusters):\n",
      "        for j in xrange(nclusters):\n",
      "            corr[(i,j)] = []\n",
      "    # loop through all spikes, across all neurons, all sorted\n",
      "    for i in xrange(nspikes):\n",
      "        # current spike and cluster\n",
      "        t0 = fulltrain[i]\n",
      "        cl0 = clusters[i]\n",
      "        j = i\n",
      "        # go forward in time up to the correlogram half-width\n",
      "        while j < nspikes:\n",
      "            # next spike and cluster\n",
      "            t1 = fulltrain[j]\n",
      "            cl1 = clusters[j]\n",
      "            # avoid computing symmetric pairs twice\n",
      "            if cl1 >= cl0:\n",
      "                # add the delay\n",
      "                if t1 <= t0 + width:\n",
      "                    corr[(cl0,cl1)].append(t1 - t0)\n",
      "                else:\n",
      "                    break\n",
      "            j += 1\n",
      "        # go backward in time up to the correlogram half-width\n",
      "        j = i - 1\n",
      "        while j >= 0:\n",
      "            t1 = fulltrain[j]\n",
      "            cl1 = clusters[j]\n",
      "            # avoid computing symmetric pairs twice\n",
      "            if cl1 >= cl0:\n",
      "                if t1 >= t0 - width:\n",
      "                    corr[(cl0,cl1)].append(t1 - t0)\n",
      "                else:\n",
      "                    break\n",
      "            j -= 1\n",
      "    for i in xrange(nclusters):\n",
      "        for j in xrange(nclusters):\n",
      "            corr[(i,j)], _ = histogram(corr[(i,j)], bins=np.arange(2 * n + 1) * bin - n * bin)\n",
      "    return corr"
     ],
     "language": "python",
     "metadata": {},
     "outputs": [],
     "prompt_number": 28
    },
    {
     "cell_type": "code",
     "collapsed": false,
     "input": [
      "%load_ext cythonmagic"
     ],
     "language": "python",
     "metadata": {},
     "outputs": [],
     "prompt_number": 1
    },
    {
     "cell_type": "code",
     "collapsed": false,
     "input": [
      "\n",
      "def compute_correlograms_nocython(spiketimes, clusters,\n",
      "        pairs,\n",
      "        freq=None, bin=.001, width=.02):\n",
      "    \n",
      "    from math import ceil \n",
      "    \n",
      "    # half-size of the histograms\n",
      "    n = int(ceil(width / bin))\n",
      "    \n",
      "    # size of the histograms\n",
      "    nspikes = len(spiketimes)\n",
      "    \n",
      "    # convert in seconds\n",
      "    if freq:\n",
      "        spiketimes = spiketimes / float(freq)\n",
      "\n",
      "    # delays will contain all delays for each pair of clusters\n",
      "    delays = {}\n",
      "    # correlograms will contain all requested correlograms\n",
      "    correlograms = {}\n",
      "    \n",
      "    # get the pairs for which the correlograms need to be computed\n",
      "    clusters_to_update = [cl0 for (cl0, _) in pairs]\n",
      "    \n",
      "    # initialize the correlograms\n",
      "    for (cl0, cl1) in pairs:\n",
      "        delays[(cl0, cl1)] = []\n",
      "\n",
      "    # loop through all spikes, across all neurons, all sorted\n",
      "    for i in range(nspikes):\n",
      "        t0, cl0 = spiketimes[i], clusters[i]\n",
      "        # pass clusters that do not need to be processed\n",
      "        if cl0 not in clusters_to_update:\n",
      "            continue\n",
      "        # i, t0, c0: current spike index, spike time, and cluster\n",
      "        inner_list = [xrange(i+1, nspikes),\n",
      "                      xrange(i-1, -1, -1)]\n",
      "        # boundaries of the second loop\n",
      "        t0min, t0max = t0 - width, t0 + width\n",
      "        # go forward and backtime in time up to the correlogram half-width\n",
      "        for inner in inner_list:\n",
      "            for j in inner:\n",
      "                t1, cl1 = spiketimes[j], clusters[j]\n",
      "                # pass clusters that do not need to be processed\n",
      "                if (cl0, cl1) not in pairs:\n",
      "                    continue\n",
      "                # compute only correlograms if necessary\n",
      "                # and avoid computing symmetric pairs twice\n",
      "                # add the delay\n",
      "                if t0min <= t1 <= t0max:\n",
      "                    delays[(cl0, cl1)].append(t1 - t0)\n",
      "                else:\n",
      "                    break\n",
      "    \n",
      "    return delays\n"
     ],
     "language": "python",
     "metadata": {},
     "outputs": [],
     "prompt_number": 66
    },
    {
     "cell_type": "code",
     "collapsed": false,
     "input": [
      "%%cython\n",
      "def compute_correlograms(spiketimes, clusters,\n",
      "        pairs,\n",
      "        freq=None, bin=.001, width=.02):\n",
      "    \n",
      "    from math import ceil \n",
      "\n",
      "    #cdef int cl0, cl1\n",
      "    \n",
      "    # half-size of the histograms\n",
      "    cdef int n = int(ceil(width / bin))\n",
      "    \n",
      "    # size of the histograms\n",
      "    cdef int nspikes = len(spiketimes)\n",
      "    \n",
      "    # convert in seconds\n",
      "    if freq:\n",
      "        spiketimes = spiketimes / float(freq)\n",
      "\n",
      "    # delays will contain all delays for each pair of clusters\n",
      "    delays = {}\n",
      "    \n",
      "    # get the pairs for which the correlograms need to be computed\n",
      "    clusters_to_update = [cl0 for (cl0, _) in pairs]\n",
      "    \n",
      "    # initialize the correlograms\n",
      "    for (cl0, cl1) in pairs:\n",
      "        delays[(cl0, cl1)] = []\n",
      "        \n",
      "    cdef int i, j\n",
      "    cdef double t0, t1, t0min, t0max\n",
      "    \n",
      "    # loop through all spikes, across all neurons, all sorted\n",
      "    for i in range(nspikes):\n",
      "        t0, cl0 = spiketimes[i], clusters[i]\n",
      "        # pass clusters that do not need to be processed\n",
      "        if cl0 not in clusters_to_update:\n",
      "            continue\n",
      "        # i, t0, c0: current spike index, spike time, and cluster\n",
      "        inner_list = [xrange(i+1, nspikes),\n",
      "                      xrange(i-1, -1, -1)]\n",
      "        # boundaries of the second loop\n",
      "        t0min, t0max = t0 - width, t0 + width\n",
      "        # go forward and backtime in time up to the correlogram half-width\n",
      "        for inner in inner_list:\n",
      "            for j in inner:\n",
      "                t1, cl1 = spiketimes[j], clusters[j]\n",
      "                # pass clusters that do not need to be processed\n",
      "                if (cl0, cl1) not in pairs:\n",
      "                    continue\n",
      "                # compute only correlograms if necessary\n",
      "                # and avoid computing symmetric pairs twice\n",
      "                # add the delay\n",
      "                if t0min <= t1 <= t0max:\n",
      "                    delays[(cl0, cl1)].append(t1 - t0)\n",
      "                else:\n",
      "                    break\n",
      "    \n",
      "    return delays\n"
     ],
     "language": "python",
     "metadata": {},
     "outputs": [],
     "prompt_number": 84
    },
    {
     "cell_type": "code",
     "collapsed": false,
     "input": [
      "nspikes = 1000\n",
      "nclusters = 10\n",
      "fulltrain = poisson(nspikes)\n",
      "clusters = randint(low=0, high=nclusters, size=nspikes)\n",
      "#trains = [fulltrain[clusters==i] for i in xrange(nclusters)]"
     ],
     "language": "python",
     "metadata": {},
     "outputs": [],
     "prompt_number": 80
    },
    {
     "cell_type": "code",
     "collapsed": false,
     "input": [
      "counter = Counter(clusters)\n",
      "# sorted list of all cluster unique indices\n",
      "clusters_unique = sorted(counter.keys())\n",
      "# list of all pairs (ci <= cj)\n",
      "pairs = [(ci, cj) for ci in clusters_unique for cj in clusters_unique if cj >= ci]"
     ],
     "language": "python",
     "metadata": {},
     "outputs": [],
     "prompt_number": 81
    },
    {
     "cell_type": "code",
     "collapsed": false,
     "input": [
      "%timeit -r 3 -n 1 compute_correlograms(fulltrain, clusters, pairs)"
     ],
     "language": "python",
     "metadata": {},
     "outputs": [
      {
       "output_type": "stream",
       "stream": "stdout",
       "text": [
        "1 loops, best of 3: 16.8 ms per loop\n"
       ]
      }
     ],
     "prompt_number": 86
    },
    {
     "cell_type": "code",
     "collapsed": false,
     "input": [
      "%timeit -r 3 -n 1 compute_correlograms_nocython(fulltrain, clusters, pairs)"
     ],
     "language": "python",
     "metadata": {},
     "outputs": [
      {
       "output_type": "stream",
       "stream": "stdout",
       "text": [
        "1 loops, best of 3: 20.4 ms per loop\n"
       ]
      }
     ],
     "prompt_number": 85
    },
    {
     "cell_type": "code",
     "collapsed": false,
     "input": [
      "corr1 = compute1()\n",
      "corr2 = compute2()\n",
      "for i in xrange(nclusters):\n",
      "    for j in xrange(i, nclusters):\n",
      "        if not array_equal(corr1[(i,j)], corr2[(i,j)]):\n",
      "            print i, j"
     ],
     "language": "python",
     "metadata": {},
     "outputs": [],
     "prompt_number": 22
    },
    {
     "cell_type": "code",
     "collapsed": false,
     "input": [],
     "language": "python",
     "metadata": {},
     "outputs": [],
     "prompt_number": 7
    },
    {
     "cell_type": "code",
     "collapsed": false,
     "input": [
      "%timeit -r 1 -n 1 compute1()"
     ],
     "language": "python",
     "metadata": {},
     "outputs": [
      {
       "output_type": "stream",
       "stream": "stdout",
       "text": [
        "1 loops, best of 1: 8.43 s per loop\n"
       ]
      }
     ],
     "prompt_number": 23
    },
    {
     "cell_type": "code",
     "collapsed": false,
     "input": [
      "%timeit -r 1 -n 1 compute2()"
     ],
     "language": "python",
     "metadata": {},
     "outputs": [
      {
       "output_type": "stream",
       "stream": "stdout",
       "text": [
        "1 loops, best of 1: 791 ms per loop\n"
       ]
      }
     ],
     "prompt_number": 31
    },
    {
     "cell_type": "markdown",
     "metadata": {},
     "source": [
      "### Other tests"
     ]
    },
    {
     "cell_type": "code",
     "collapsed": false,
     "input": [
      "# check which is quicker between unoptimized vectorized or optimized pure Python to find the subpart of the train\n",
      "i = len(fulltrain)/2\n",
      "t = fulltrain[i]\n",
      "\n",
      "# first solution\n",
      "def f1():\n",
      "    x1 = fulltrain[(fulltrain >= t - .02) & (fulltrain <= t + .02)] - t\n",
      "    return x1\n",
      "\n",
      "# second solution\n",
      "def f2():\n",
      "    x2 = []\n",
      "    k = i\n",
      "    while True:\n",
      "        t2 = fulltrain[k]\n",
      "        if t2 <= t + .02:\n",
      "            x2.append(t2 - t)\n",
      "        else:\n",
      "            break\n",
      "        k += 1\n",
      "    k = i-1\n",
      "    while True:\n",
      "        t2 = fulltrain[k]\n",
      "        if t2 >= t - .02:\n",
      "            x2.append(t2 - t)\n",
      "        else:\n",
      "            break\n",
      "        k -= 1\n",
      "    x2 = array(x2)\n",
      "    x2.sort()\n",
      "    return x2\n",
      "    \n",
      "print array_equal(f1(), f2())"
     ],
     "language": "python",
     "metadata": {},
     "outputs": [
      {
       "output_type": "stream",
       "stream": "stdout",
       "text": [
        "True\n"
       ]
      }
     ],
     "prompt_number": 10
    },
    {
     "cell_type": "code",
     "collapsed": false,
     "input": [
      "timeit -r 1000 -n 3 f1()"
     ],
     "language": "python",
     "metadata": {},
     "outputs": [
      {
       "output_type": "stream",
       "stream": "stdout",
       "text": [
        "3 loops, best of 1000: 55.1 us per loop\n"
       ]
      }
     ],
     "prompt_number": 11
    },
    {
     "cell_type": "code",
     "collapsed": false,
     "input": [
      "timeit -r 1000 -n 3 f2()"
     ],
     "language": "python",
     "metadata": {},
     "outputs": [
      {
       "output_type": "stream",
       "stream": "stdout",
       "text": [
        "3 loops, best of 1000: 13.8 us per loop\n"
       ]
      }
     ],
     "prompt_number": 12
    }
   ],
   "metadata": {}
  }
 ]
}