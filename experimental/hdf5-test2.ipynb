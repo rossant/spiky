{
 "metadata": {
  "name": "hdf5-test2"
 },
 "nbformat": 3,
 "nbformat_minor": 0,
 "worksheets": [
  {
   "cells": [
    {
     "cell_type": "code",
     "collapsed": false,
     "input": [
      "filename = \"test_data/n6mab031109.dat\"\n",
      "filename_h5 = \"test_data/n6mab031109.h5\""
     ],
     "language": "python",
     "metadata": {},
     "outputs": [],
     "prompt_number": 38
    },
    {
     "cell_type": "code",
     "collapsed": false,
     "input": [
      "import numpy as np\n",
      "import tables\n",
      "import os\n",
      "\n",
      "datatype = np.dtype(np.int16)\n",
      "nchannels = 32\n",
      "freq = 20000.\n",
      "rowsize_total = os.path.getsize(filename) / (datatype.itemsize * nchannels)\n",
      "duration_total = rowsize_total / float(freq)\n",
      "duration = 60."
     ],
     "language": "python",
     "metadata": {},
     "outputs": [],
     "prompt_number": 34
    },
    {
     "cell_type": "code",
     "collapsed": false,
     "input": [
      "X = np.fromfile(filename, dtype=dtype, count=channels * int(duration * freq))\n",
      "X = X.reshape((-1, channels)).T"
     ],
     "language": "python",
     "metadata": {},
     "outputs": [],
     "prompt_number": 36
    },
    {
     "cell_type": "code",
     "collapsed": false,
     "input": [
      "f = tables.openFile(filename_h5, 'w')\n",
      "atom = tables.Atom.from_dtype(X.dtype)\n",
      "ds = f.createEArray(f.root, 'raw_data', atom, shape=(nchannels, 0), expectedrows=rowsize_total)\n",
      "ds.append(X)\n",
      "f.close()"
     ],
     "language": "python",
     "metadata": {},
     "outputs": [],
     "prompt_number": 48
    },
    {
     "cell_type": "code",
     "collapsed": false,
     "input": [
      "f = tables.openFile(filename_h5, 'r')\n",
      "ds = f.root.raw_data"
     ],
     "language": "python",
     "metadata": {},
     "outputs": [],
     "prompt_number": 49
    },
    {
     "cell_type": "code",
     "collapsed": false,
     "input": [
      "%timeit -n 1 -r 1 x = ds[::10,:]"
     ],
     "language": "python",
     "metadata": {},
     "outputs": [
      {
       "output_type": "stream",
       "stream": "stdout",
       "text": [
        "1 loops, best of 1: 380 ms per loop\n"
       ]
      }
     ],
     "prompt_number": 50
    },
    {
     "cell_type": "code",
     "collapsed": false,
     "input": [
      "f.close()"
     ],
     "language": "python",
     "metadata": {},
     "outputs": []
    }
   ],
   "metadata": {}
  }
 ]
}