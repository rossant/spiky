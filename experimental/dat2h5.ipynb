{
 "metadata": {
  "name": "dat2h5"
 },
 "nbformat": 3,
 "nbformat_minor": 0,
 "worksheets": [
  {
   "cells": [
    {
     "cell_type": "code",
     "collapsed": false,
     "input": [
      "import numpy as np\n",
      "import tables\n",
      "import os\n",
      "\n",
      "filename = \"test_data/n6mab031109.dat\"\n",
      "filename_h5 = \"test_data/n6mab031109.h5\"\n",
      "\n",
      "datatype = np.dtype(np.int16)\n",
      "itemsize = datatype.itemsize\n",
      "nchannels = 32\n",
      "freq = 20000.\n",
      "rowsize_total = os.path.getsize(filename) / (itemsize * nchannels)\n",
      "duration_total = rowsize_total / float(freq)\n",
      "chunk_nsamples = 1024 * 1024\n",
      "chunk_size = chunk_nsamples * nchannels * itemsize"
     ],
     "language": "python",
     "metadata": {},
     "outputs": [],
     "prompt_number": 1
    },
    {
     "cell_type": "code",
     "collapsed": false,
     "input": [
      "# Open DAT file for reading.\n",
      "fr = open(filename, 'rb')"
     ],
     "language": "python",
     "metadata": {},
     "outputs": [],
     "prompt_number": 2
    },
    {
     "cell_type": "code",
     "collapsed": false,
     "input": [
      "# Open HDF5 file for writing.\n",
      "fw = tables.openFile(filename_h5, 'w')\n",
      "atom = tables.Atom.from_dtype(datatype)\n",
      "ds = fw.createEArray(fw.root, 'raw_data', atom, shape=(0, nchannels), expectedrows=rowsize_total)#, chunkshape=(nchannels, 1))"
     ],
     "language": "python",
     "metadata": {},
     "outputs": [],
     "prompt_number": 3
    },
    {
     "cell_type": "code",
     "collapsed": false,
     "input": [
      "# Convert the DAT file in HDF5 by chunks.\n",
      "while True:\n",
      "    s = fr.read(chunk_size)\n",
      "    if not s:\n",
      "        break\n",
      "    chunk = np.fromstring(s, dtype=datatype).reshape((-1, nchannels))\n",
      "    ds.append(chunk)"
     ],
     "language": "python",
     "metadata": {},
     "outputs": [],
     "prompt_number": 4
    },
    {
     "cell_type": "code",
     "collapsed": false,
     "input": [
      "# Close all files.\n",
      "ds.flush()\n",
      "fw.close()\n",
      "fr.close()"
     ],
     "language": "python",
     "metadata": {},
     "outputs": [],
     "prompt_number": 5
    },
    {
     "cell_type": "code",
     "collapsed": false,
     "input": [
      "# Try opening the file.\n",
      "f = tables.openFile(filename_h5, 'r')\n",
      "ds = f.root.raw_data"
     ],
     "language": "python",
     "metadata": {},
     "outputs": [],
     "prompt_number": 6
    },
    {
     "cell_type": "code",
     "collapsed": false,
     "input": [
      "step = (8192) * 1\n",
      "print nchannels * (rowsize_total / float(step)) * itemsize / (1024.)"
     ],
     "language": "python",
     "metadata": {},
     "outputs": [
      {
       "output_type": "stream",
       "stream": "stdout",
       "text": [
        "830.062866211\n"
       ]
      }
     ],
     "prompt_number": 56
    },
    {
     "cell_type": "code",
     "collapsed": false,
     "input": [
      "%timeit -n 1 -r 1 x = ds[::step,:]"
     ],
     "language": "python",
     "metadata": {},
     "outputs": [],
     "prompt_number": "*"
    },
    {
     "cell_type": "code",
     "collapsed": false,
     "input": [
      "ds.chunkshape"
     ],
     "language": "python",
     "metadata": {},
     "outputs": [
      {
       "output_type": "pyout",
       "prompt_number": 10,
       "text": [
        "(8192, 32)"
       ]
      }
     ],
     "prompt_number": 10
    },
    {
     "cell_type": "code",
     "collapsed": false,
     "input": [
      "f.close()"
     ],
     "language": "python",
     "metadata": {},
     "outputs": [],
     "prompt_number": 51
    }
   ],
   "metadata": {}
  }
 ]
}